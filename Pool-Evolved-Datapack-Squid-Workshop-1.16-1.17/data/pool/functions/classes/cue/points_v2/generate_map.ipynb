{
 "cells": [
  {
   "cell_type": "code",
   "execution_count": 2,
   "metadata": {},
   "outputs": [
    {
     "name": "stdout",
     "output_type": "stream",
     "text": [
      "c:\\Users\\yangm\\AppData\\Roaming\\.minecraft\\saves\\Pool Test Evolved\\datapacks\\Pool-Evolved-Datapack-Squid-Workshop-1.16-1.17\\data\\pool\\functions\\classes\\cue\\points_v2\n"
     ]
    }
   ],
   "source": [
    "import math\n",
    "import os\n",
    "\n",
    "print(os.getcwd())"
   ]
  },
  {
   "cell_type": "code",
   "execution_count": 3,
   "metadata": {},
   "outputs": [],
   "source": [
    "for i in range(-5,6):\n",
    "    for j in range(-5,6):\n",
    "        d = math.sqrt(i**2+j**2)\n",
    "        if d<5:\n",
    "            x = (round(math.atan2(j,i)/math.pi*180*10000)+3600000)%3600000\n",
    "            theta = round(math.asin(d/5)/math.pi*180*10000)\n",
    "            #print(x,theta)\n",
    "            pi,pj = int(i*2000),int(j*2000)\n",
    "            f = open(f'p{pi}_{pj}.mcfunction','w')\n",
    "            f.write(f'scoreboard players set stka swPool_var00 {theta}\\n')\n",
    "            f.write(f'scoreboard players set x swPool_var00 {x}\\n')\n",
    "            f.close()\n"
   ]
  },
  {
   "cell_type": "code",
   "execution_count": null,
   "metadata": {},
   "outputs": [],
   "source": []
  }
 ],
 "metadata": {
  "interpreter": {
   "hash": "0c2822e25072336a07c609c029aeaf7b1d00fbc05a92c9194821f4bfde90e2f7"
  },
  "kernelspec": {
   "display_name": "Python 3.7.2 64-bit",
   "language": "python",
   "name": "python3"
  },
  "language_info": {
   "codemirror_mode": {
    "name": "ipython",
    "version": 3
   },
   "file_extension": ".py",
   "mimetype": "text/x-python",
   "name": "python",
   "nbconvert_exporter": "python",
   "pygments_lexer": "ipython3",
   "version": "3.7.2"
  },
  "orig_nbformat": 4
 },
 "nbformat": 4,
 "nbformat_minor": 2
}
