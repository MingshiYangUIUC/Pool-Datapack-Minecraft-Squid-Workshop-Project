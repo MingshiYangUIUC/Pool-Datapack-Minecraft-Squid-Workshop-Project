{
 "cells": [
  {
   "cell_type": "code",
   "execution_count": 1,
   "metadata": {},
   "outputs": [],
   "source": [
    "import numpy as np"
   ]
  },
  {
   "cell_type": "code",
   "execution_count": 16,
   "metadata": {},
   "outputs": [],
   "source": [
    "# positive directions\n",
    "# v range: 100000000,0\n",
    "name = '#self'\n",
    "\n",
    "obj = 'vz' # 100000000\n",
    "sc1,sc0,tp1 = 50000000,99999999,0.5\n",
    "f = open(f'p{obj}.mcfunction','w')\n",
    "for i in range(10):\n",
    "    cmd = f'execute if score {name} swPool_{obj} matches {sc1}..{sc0} at @s run tp @s ^ ^ ^{tp1}\\n'\n",
    "    cmd2 = f'execute if score {name} swPool_{obj} matches {sc1}..{sc0} run scoreboard players remove {name} swPool_{obj} {sc1}\\n'\n",
    "    sc0 = sc1-1\n",
    "    sc1 = int(sc1/2)\n",
    "    tp1 = sc1/100000000\n",
    "    f.write(cmd)\n",
    "    f.write(cmd2)\n",
    "f.close()\n",
    "\n",
    "obj = 'vx' # 100000000\n",
    "sc1,sc0,tp1 = 50000000,99999999,0.5\n",
    "f = open(f'p{obj}.mcfunction','w')\n",
    "for i in range(10):\n",
    "    cmd = f'execute if score {name} swPool_{obj} matches {sc1}..{sc0} at @s run tp @s ^{tp1} ^ ^\\n'\n",
    "    cmd2 = f'execute if score {name} swPool_{obj} matches {sc1}..{sc0} run scoreboard players remove {name} swPool_{obj} {sc1}\\n'\n",
    "    sc0 = sc1-1\n",
    "    sc1 = int(sc1/2)\n",
    "    tp1 = sc1/100000000\n",
    "    f.write(cmd)\n",
    "    f.write(cmd2)\n",
    "f.close()"
   ]
  },
  {
   "cell_type": "code",
   "execution_count": 17,
   "metadata": {},
   "outputs": [],
   "source": [
    "# negative directions\n",
    "\n",
    "name = '#self'\n",
    "\n",
    "obj = 'vz' # 100000000\n",
    "sc1,sc0,tp1 = -50000000,-99999999,-0.5\n",
    "f = open(f'n{obj}.mcfunction','w')\n",
    "for i in range(10):\n",
    "    cmd = f'execute if score {name} swPool_{obj} matches {sc0}..{sc1} at @s run tp @s ^ ^ ^{tp1}\\n'\n",
    "    cmd2 = f'execute if score {name} swPool_{obj} matches {sc0}..{sc1} run scoreboard players add {name} swPool_{obj} {int(-sc1)}\\n'\n",
    "    sc0 = sc1+1\n",
    "    sc1 = int(sc1/2)\n",
    "    tp1 = sc1/100000000\n",
    "    f.write(cmd)\n",
    "    f.write(cmd2)\n",
    "f.close()\n",
    "\n",
    "obj = 'vx' # 100000000\n",
    "sc1,sc0,tp1 = -50000000,-99999999,-0.5\n",
    "f = open(f'n{obj}.mcfunction','w')\n",
    "for i in range(10):\n",
    "    cmd = f'execute if score {name} swPool_{obj} matches {sc0}..{sc1} at @s run tp @s ^{tp1} ^ ^\\n'\n",
    "    cmd2 = f'execute if score {name} swPool_{obj} matches {sc0}..{sc1} run scoreboard players add {name} swPool_{obj} {int(-sc1)}\\n'\n",
    "    sc0 = sc1+1\n",
    "    sc1 = int(sc1/2)\n",
    "    tp1 = sc1/100000000\n",
    "    f.write(cmd)\n",
    "    f.write(cmd2)\n",
    "f.close()"
   ]
  }
 ],
 "metadata": {
  "kernelspec": {
   "display_name": "base",
   "language": "python",
   "name": "python3"
  },
  "language_info": {
   "codemirror_mode": {
    "name": "ipython",
    "version": 3
   },
   "file_extension": ".py",
   "mimetype": "text/x-python",
   "name": "python",
   "nbconvert_exporter": "python",
   "pygments_lexer": "ipython3",
   "version": "3.9.13"
  },
  "orig_nbformat": 4,
  "vscode": {
   "interpreter": {
    "hash": "c0e197e4759e9b523a2cd970505f3c9f4a5d8df338839fbeebb883f2ce3c3dd6"
   }
  }
 },
 "nbformat": 4,
 "nbformat_minor": 2
}
